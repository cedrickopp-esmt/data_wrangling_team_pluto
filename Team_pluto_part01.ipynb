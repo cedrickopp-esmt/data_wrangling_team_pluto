{
 "cells": [
  {
   "cell_type": "markdown",
   "id": "ec53c0a8-133a-4675-96cb-a540991f9b62",
   "metadata": {
    "id": "ec53c0a8-133a-4675-96cb-a540991f9b62"
   },
   "source": [
    "# Group Project part 01\n",
    "\n",
    "#### Deadline for the code submission: October 10th at 08:59 am CET\n",
    "\n",
    "#### Reminder\n",
    "- your group is the one assigned to you by the University.\n",
    "- one goal of this project is to learn how to work as a group, which is the standard in the tech industry. Therefore you need to resolve group issues on your own, as a group.\n",
    "- if you did not manage to resolve the group issues on your own, you need to escalate to the teacher early, not last minute.\n",
    "- if the group splits, it would result in a 0 for the whole group.\n",
    "\n",
    "**Penalty for unexcused absence or lateness**:\n",
    "- If you are absent or late on presentation day without an official excuse, you will receive 0 for the presentation part of the group project.\n",
    "- If you are late without an official excuse and can still make it to the presentation of your team, you will still receive 0 for the presentation part of the group project."
   ]
  },
  {
   "cell_type": "markdown",
   "id": "9f539776-8b27-44a9-8cfd-a71371dbe043",
   "metadata": {
    "id": "9f539776-8b27-44a9-8cfd-a71371dbe043"
   },
   "source": [
    "## Objective\n",
    "In this project, you utilise your skills to :\n",
    "- collect data through multiple APIs and open source datasets, for both quantitative and qualitative data\n",
    "- merge data from different sources\n",
    "- describe and analyse datasets\n",
    "- uncover patterns, insights\n",
    "- calculate aggregated measures, statistics\n",
    "- create compelling data visualisations\n",
    "- write clean code\n",
    "- tell a story and convince your audience\n",
    "\n",
    "Each group can pick one and one only scenario among the following ones.\n",
    "\n",
    "Be mindful to pick a topic that enables enough data collection and analysis in order to showcase all the skills gathered during the course, listed above.\n",
    "\n",
    "### Scenario 01: Become a Business Manager\n",
    "\n",
    "Your task is to design a local business that leverages data from various APIs to make informed, strategic decisions. Whether you're launching a street food stand, a drink shop, or another local venture, your team will gather and analyze relevant data —such as foot traffic, weather patterns, customer trends, or competitor insights— to shape your business plan. Your final deliverable will be a data-supported report and/or presentation to a management board, demonstrating how your findings guide key decisions in operations, marketing, or product offerings. The ultimate goal: to optimize performance and increase the chances of business success. Will your business thrive in today’s data-driven world?\n",
    "Examples:\n",
    "- lemonade stands business\n",
    "- food truck business\n",
    "- delivery service\n",
    "\n",
    "### Scenario 02: Fact Check Popular beliefs\n",
    "\n",
    "You are part of a fact-checking research team investigating common beliefs, trending opinions, or viral social media claims (e.g. “drinking lemon water boosts metabolism” or “blue light ruins your sleep”). Your goal is to dig into reliable sources, data, and expert opinions to determine whether these beliefs hold up under scrutiny. Use data to challenge or prove real-world claims with clear, persuasive insights. Drawing on research, statistics, and visual evidence, your team will present a well-supported explanation to help your audience separate fact from fiction.\n",
    "\n",
    "You may also choose to divide the group into two sides—one defending the belief and the other challenging it—before presenting your findings in a debate or side-by-side analysis.\n",
    "\n",
    "Examples:\n",
    "- Electric cars are always better for the environment\n",
    "- Areas with more green space have better physical and mental health outcomes.\n",
    "- Does public sentiment on social media predict stock market trends?"
   ]
  },
  {
   "cell_type": "markdown",
   "id": "519e47f3-51ae-440c-a2ed-cbf2647c7d7e",
   "metadata": {
    "id": "519e47f3-51ae-440c-a2ed-cbf2647c7d7e"
   },
   "source": [
    "## 01 - Getting Ready: first questions\n",
    "\n",
    "Depending on the scenario you picked, please consider the following questions to help you get started.\n",
    "\n",
    "### Scenario 01: Become a Business Manager\n",
    "\n",
    "   - What kind of business do we run? What do we sell ? The choice of the business must be original and unique to your group.\n",
    "   - How do we name our business?\n",
    "   - When do we operate? Is it an all-year-round business or a seasonal one? If so, which seasons? Which months / weeks / days / hours of the day do we operate?\n",
    "   - Where do we operate? In which countries / cities are we currently active ? Where do we want to develop in the future ? Determine where to set up your business stand based on weather conditions, local attractions, or events.\n",
    "   - Which datasets will assist us in making our business the most successful?\n",
    "\n",
    "### Scenario 02: Fact-Check a popular belief\n",
    "\n",
    "•⁠  ⁠What specific belief or claim do you want to investigate ?\n",
    "\n",
    "We aim to investigate the correlation between government funds spend on combatting climate change and the actual effect of these funds measured in the CO2 emission of countries over time.\n",
    "\n",
    "•⁠  ⁠Why is this belief important or worth fact-checking ?\n",
    "\n",
    "This belief matters, because a significant amount of public funding is going toward climate change initiatives. Understanding whether these initiatives are truly effective helps ensure accountability, smart use of resources, and real environmental progress. Fact-checking this belief can also shape how policies are developed and whether the public supports future climate budgets.\n",
    "\n",
    "\n",
    "•⁠  ⁠What evidence or data supports or contradicts the belief ?\n",
    "\n",
    "Data from the OECD and the World Bank show a mixed picture. In some countries, higher government spending on climate programs has led to lower emissions and more renewable energy use. But in others, similar investments haven’t made much difference. This suggests that money alone isn’t always enough -> how it’s used matters. Because of this, it’s too early to take a clear stance, and both datasets are needed to understand the full story.\n",
    "\n",
    "\n",
    "•⁠  ⁠Will you split the team into two group (in favor / against) ?\n",
    "\n",
    "Yes, this topic is so complex that we will have Pro and Contra arguments in our final product.\n",
    "\n",
    "•⁠  ⁠What real-world impact does this belief have on people ?\n",
    "\n",
    "This belief shapes how people see the government's role in fighting climate change and most importantly, how willing they are to support it through taxes or public programs. It also affects things like job opportunities in clean energy, the cost of electricity, and how quickly we can move toward a low-carbon future.\n",
    "\n",
    "•⁠  ⁠What are the consequences if people continue believing or acting on this (true or false) idea ?\n",
    "\n",
    "True: Ongoing funding could speed up climate action, protect people’s health, and help build a stronger, more sustainable economy.\n",
    "\n",
    "False: Money could be wasted, public trust could take a hit, and real progress on climate solutions might be delayed -> leading to even greater environmental and economic costs down the line."
   ]
  },
  {
   "cell_type": "markdown",
   "id": "5f57de6f-d6ae-4dde-a79d-7c3e1b9f9470",
   "metadata": {
    "id": "5f57de6f-d6ae-4dde-a79d-7c3e1b9f9470"
   },
   "source": [
    "## 02 - Collect data from multiple APIs, the more the merrier\n",
    "\n",
    "Integrate with as many APIs as you can e.g.:\n",
    "- OpenWeatherMap API\n",
    "- Google Maps,\n",
    "- TripAdvisor,\n",
    "- News API,\n",
    "- Yelp,\n",
    "- Wikipedia,\n",
    "- Booking,\n",
    "- Amadeus Travel API,\n",
    "- Foursquare,\n",
    "- etc. (make your own research and be original!)\n",
    "\n",
    "Each API can provide different types of information. Pick the ones that best suit your scenario.\n",
    "\n",
    "After collecting all the data you need, save them."
   ]
  },
  {
   "cell_type": "markdown",
   "id": "90b88ee1",
   "metadata": {},
   "source": [
    "# Using the world bank api \n",
    "to retrieve a rich dataset of quanitive data including GHG-emissions, financial data on climate funds budget and spendig as well as GDP and demografic data."
   ]
  },
  {
   "cell_type": "code",
   "execution_count": null,
   "id": "8e170dc8",
   "metadata": {},
   "outputs": [
    {
     "ename": "ModuleNotFoundError",
     "evalue": "No module named 'wbgapi'",
     "output_type": "error",
     "traceback": [
      "\u001b[31m---------------------------------------------------------------------------\u001b[39m",
      "\u001b[31mModuleNotFoundError\u001b[39m                       Traceback (most recent call last)",
      "\u001b[36mCell\u001b[39m\u001b[36m \u001b[39m\u001b[32mIn[3]\u001b[39m\u001b[32m, line 1\u001b[39m\n\u001b[32m----> \u001b[39m\u001b[32m1\u001b[39m \u001b[38;5;28;01mimport\u001b[39;00m\u001b[38;5;250m \u001b[39m\u001b[34;01mwbgapi\u001b[39;00m\u001b[38;5;250m \u001b[39m\u001b[38;5;28;01mas\u001b[39;00m\u001b[38;5;250m \u001b[39m\u001b[34;01mwb\u001b[39;00m\n\u001b[32m      2\u001b[39m \u001b[38;5;28;01mimport\u001b[39;00m\u001b[38;5;250m \u001b[39m\u001b[34;01mpandas\u001b[39;00m\u001b[38;5;250m \u001b[39m\u001b[38;5;28;01mas\u001b[39;00m\u001b[38;5;250m \u001b[39m\u001b[34;01mpd\u001b[39;00m\n\u001b[32m      4\u001b[39m energy_indicators = [\n\u001b[32m      5\u001b[39m     \u001b[33m\"\u001b[39m\u001b[33mEG.EGY.PRIM.PP.KD\u001b[39m\u001b[33m\"\u001b[39m, \u001b[33m\"\u001b[39m\u001b[33mEG.ELC.ACCS.RU.ZS\u001b[39m\u001b[33m\"\u001b[39m, \u001b[33m\"\u001b[39m\u001b[33mEG.ELC.ACCS.UR.ZS\u001b[39m\u001b[33m\"\u001b[39m, \u001b[33m\"\u001b[39m\u001b[33mEG.ELC.ACCS.ZS\u001b[39m\u001b[33m\"\u001b[39m,\n\u001b[32m      6\u001b[39m     \u001b[33m\"\u001b[39m\u001b[33mEG.ELC.COAL.ZS\u001b[39m\u001b[33m\"\u001b[39m, \u001b[33m\"\u001b[39m\u001b[33mEG.ELC.FOSL.ZS\u001b[39m\u001b[33m\"\u001b[39m, \u001b[33m\"\u001b[39m\u001b[33mEG.ELC.HYRO.ZS\u001b[39m\u001b[33m\"\u001b[39m, \u001b[33m\"\u001b[39m\u001b[33mEG.ELC.LOSS.ZS\u001b[39m\u001b[33m\"\u001b[39m,\n\u001b[32m   (...)\u001b[39m\u001b[32m     10\u001b[39m     \u001b[33m\"\u001b[39m\u001b[33mEG.USE.COMM.GD.PP.KD\u001b[39m\u001b[33m\"\u001b[39m, \u001b[33m\"\u001b[39m\u001b[33mEG.USE.CRNW.ZS\u001b[39m\u001b[33m\"\u001b[39m, \u001b[33m\"\u001b[39m\u001b[33mEG.USE.ELEC.KH.PC\u001b[39m\u001b[33m\"\u001b[39m, \u001b[33m\"\u001b[39m\u001b[33mEG.USE.PCAP.KG.OE\u001b[39m\u001b[33m\"\u001b[39m\n\u001b[32m     11\u001b[39m ]\n",
      "\u001b[31mModuleNotFoundError\u001b[39m: No module named 'wbgapi'"
     ]
    }
   ],
   "source": [
    "import wbgapi as wb\n",
    "import pandas as pd\n",
    "\n",
    "energy_indicators = [\n",
    "    \"EG.EGY.PRIM.PP.KD\", \"EG.ELC.ACCS.RU.ZS\", \"EG.ELC.ACCS.UR.ZS\", \"EG.ELC.ACCS.ZS\",\n",
    "    \"EG.ELC.COAL.ZS\", \"EG.ELC.FOSL.ZS\", \"EG.ELC.HYRO.ZS\", \"EG.ELC.LOSS.ZS\",\n",
    "    \"EG.ELC.NGAS.ZS\", \"EG.ELC.NUCL.ZS\", \"EG.ELC.PETR.ZS\", \"EG.ELC.RNEW.ZS\",\n",
    "    \"EG.ELC.RNWX.KH\", \"EG.ELC.RNWX.ZS\", \"EG.FEC.RNEW.ZS\", \"EG.GDP.PUSE.KO.PP\",\n",
    "    \"EG.GDP.PUSE.KO.PP.KD\", \"EG.IMP.CONS.ZS\", \"EG.USE.COMM.CL.ZS\", \"EG.USE.COMM.FO.ZS\",\n",
    "    \"EG.USE.COMM.GD.PP.KD\", \"EG.USE.CRNW.ZS\", \"EG.USE.ELEC.KH.PC\", \"EG.USE.PCAP.KG.OE\"\n",
    "]\n",
    "\n",
    "worldb_energy_df = wb.data.DataFrame(\n",
    "        energy_indicators,\n",
    "        time=range(2000, 2020),\n",
    "        skipBlanks=True,\n",
    "        labels=True,\n",
    "        columns='series'\n",
    "    ).reset_index()\n",
    "\n",
    "worldb_energy_df.head(50)"
   ]
  },
  {
   "cell_type": "code",
   "execution_count": null,
   "id": "115066ab",
   "metadata": {},
   "outputs": [],
   "source": [
    "envghg_indicators = [\n",
    "    \"EN.CLC.DRSK.XQ\", \"EN.CLC.MDAT.ZS\",\n",
    "    \"EN.GHG.ALL.LU.MT.CE.AR5\", \"EN.GHG.ALL.MT.CE.AR5\", \"EN.GHG.ALL.PC.CE.AR5\", \"EN.GHG.CH4.AG.MT.CE.AR5\",\n",
    "    \"EN.GHG.CO2.AG.MT.CE.AR5\", \"EN.GHG.CO2.BU.MT.CE.AR5\", \"EN.GHG.CO2.FE.MT.CE.AR5\",\n",
    "    \"EN.GHG.CO2.IC.MT.CE.AR5\", \"EN.GHG.CO2.IP.MT.CE.AR5\", \"EN.GHG.CO2.LU.DF.MT.CE.AR5\", \"EN.GHG.CO2.LU.FL.MT.CE.AR5\",\n",
    "    \"EN.GHG.CO2.LU.MT.CE.AR5\", \"EN.GHG.CO2.LU.OL.MT.CE.AR5\", \"EN.GHG.CO2.LU.OS.MT.CE.AR5\", \"EN.GHG.CO2.MT.CE.AR5\",\n",
    "    \"EN.GHG.CO2.PC.CE.AR5\", \"EN.GHG.CO2.PI.MT.CE.AR5\", \"EN.GHG.CO2.RT.GDP.KD\", \"EN.GHG.CO2.RT.GDP.PP.KD\",\n",
    "    \"EN.GHG.CO2.TR.MT.CE.AR5\", \"EN.GHG.CO2.WA.MT.CE.AR5\", \"EN.GHG.CO2.ZG.AR5\", \"EN.GHG.FGAS.IP.MT.CE.AR5\",\n",
    "    \"EN.GHG.TOT.ZG.AR5\"\n",
    "]\n",
    "\n",
    "worldb_envghg_df = wb.data.DataFrame(\n",
    "        envghg_indicators,\n",
    "        time=range(2000, 2020),\n",
    "        skipBlanks=True,\n",
    "        labels=True,\n",
    "        columns='series'\n",
    "    ).reset_index()\n",
    "\n",
    "worldb_envghg_df.head(50)"
   ]
  },
  {
   "cell_type": "code",
   "execution_count": null,
   "id": "648bfcf3-4bbf-43ea-af80-d23bb42b96a9",
   "metadata": {
    "id": "648bfcf3-4bbf-43ea-af80-d23bb42b96a9"
   },
   "outputs": [],
   "source": [
    "envfin_indicators = [\n",
    "    \"NY.GDP.MKTP.CD\",\n",
    "    \"NY.GDP.MKTP.CN\",\n",
    "    \"NY.GDP.MKTP.KD.ZG\",\n",
    "    \"SP.POP.TOTL\",\n",
    "    \"NY.ADJ.DCO2.CD\",\n",
    "    \"NY.ADJ.DCO2.GN.ZS\",\n",
    "    \"NY.ADJ.DPEM.CD\",\n",
    "    \"NY.ADJ.DPEM.GN.ZS\",\n",
    "    \"DT.NFL.UNEP.CD\"\n",
    "]\n",
    "\n",
    "worldb_envfin_df = wb.data.DataFrame(\n",
    "        envfin_indicators,\n",
    "        time=range(2000, 2020),\n",
    "        skipBlanks=True,\n",
    "        labels=True,\n",
    "        columns='series'\n",
    "    ).reset_index()\n",
    "\n",
    "worldb_envfin_df.head(50)"
   ]
  },
  {
   "cell_type": "markdown",
   "id": "f09ae115",
   "metadata": {},
   "source": [
    "# Using the Wikipedia API for qualitative context\n",
    "We will use the Wikipedia API to gather qualitative background information that complements our quantitative World Bank datasets. Collecting this contextual data will help explain trends and provide narratives about how and why emissions changed in specific countries."
   ]
  },
  {
   "cell_type": "code",
   "execution_count": null,
   "id": "ca631c38",
   "metadata": {},
   "outputs": [],
   "source": [
    "import wikipedia\n",
    "\n",
    "wikipedia.set_lang('en')\n",
    "\n",
    "topics = [\n",
    "\"Climate change\",\n",
    "\"Climate change mitigation\",\n",
    "\"Climate change adaptation\",\n",
    "\"United Nations Framework Convention on Climate Change\",\n",
    "\"Kyoto Protocol\",\n",
    "\"Paris Agreement\",\n",
    "\"Nationally determined contribution\",\n",
    "\"Loss and damage (climate change)\",\n",
    "\"Loss and Damage Fund\",\n",
    "\"Climate finance\",\n",
    "\"Green Climate Fund\",\n",
    "\"The Adaptation Fund\",\n",
    "\"Global Environment Facility\",\n",
    "\"European Union Emissions Trading System\",\n",
    "\"Emissions trading\",\n",
    "\"Carbon price\",\n",
    "\"Carbon tax\",\n",
    "\"Carbon emission trading\",\n",
    "\"EU Carbon Border Adjustment Mechanism\",\n",
    "\"European Green Deal\",\n",
    "\"Fit for 55\",\n",
    "\"Carbon budget\",\n",
    "\"Global Carbon Project\",\n",
    "\"List of countries by carbon dioxide emissions\",\n",
    "\"List of countries by carbon dioxide emissions per capita\",\n",
    "\"List of countries by greenhouse gas emissions\",\n",
    "\"List of countries by greenhouse gas emissions per capita\",\n",
    "\"List of countries by carbon intensity\",\n",
    "\"Fossil fuel subsidies\",\n",
    "\"Greenhouse gas emissions from agriculture\",\n",
    "\"Climate Change Performance Index\",\n",
    "\"Climate change in Germany\"\n",
    "]\n",
    "\n",
    "articles = []\n",
    "\n",
    "for t in topics:\n",
    "    try:\n",
    "        s = wikipedia.summary(t)\n",
    "    except Exception:\n",
    "        s = None\n",
    "    articles.append({'title': t, 'extract': s})\n",
    "for a in articles:\n",
    "    print('===', a['title'], '===')\n",
    "    print(a['extract'])\n",
    "    print()"
   ]
  },
  {
   "cell_type": "markdown",
   "id": "g5e7tUp_OLA9",
   "metadata": {
    "id": "g5e7tUp_OLA9"
   },
   "source": [
    "## 03 - Collect data from open source data sources\n",
    "\n",
    "The dataset must align with your end-goal and serve its purpose.\n",
    "\n",
    "- governement websites\n",
    "- statistics institutes,\n",
    "- etc.\n",
    "\n",
    "At the end of this step, you should have collected both quantitative and qualitative data."
   ]
  },
  {
   "cell_type": "code",
   "execution_count": null,
   "id": "e930dd77-2b42-4cd8-87dc-53bbc4771706",
   "metadata": {
    "id": "e930dd77-2b42-4cd8-87dc-53bbc4771706"
   },
   "outputs": [],
   "source": []
  },
  {
   "cell_type": "code",
   "execution_count": null,
   "id": "a25c20df-95ec-4f57-b1ea-9cb4ae1fa8ac",
   "metadata": {
    "id": "a25c20df-95ec-4f57-b1ea-9cb4ae1fa8ac"
   },
   "outputs": [],
   "source": []
  }
 ],
 "metadata": {
  "colab": {
   "provenance": []
  },
  "kernelspec": {
   "display_name": "Python 3",
   "language": "python",
   "name": "python3"
  },
  "language_info": {
   "codemirror_mode": {
    "name": "ipython",
    "version": 3
   },
   "file_extension": ".py",
   "mimetype": "text/x-python",
   "name": "python",
   "nbconvert_exporter": "python",
   "pygments_lexer": "ipython3",
   "version": "3.12.1"
  }
 },
 "nbformat": 4,
 "nbformat_minor": 5
}
